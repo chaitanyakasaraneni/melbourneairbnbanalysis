{
 "cells": [
  {
   "cell_type": "markdown",
   "metadata": {},
   "source": [
    "# Analysis on the Seasonal Pattern of Prices"
   ]
  },
  {
   "cell_type": "markdown",
   "metadata": {},
   "source": [
    "#### Cleaning the data"
   ]
  },
  {
   "cell_type": "code",
   "execution_count": 1,
   "metadata": {},
   "outputs": [
    {
     "data": {
      "text/html": [
       "<div>\n",
       "<style scoped>\n",
       "    .dataframe tbody tr th:only-of-type {\n",
       "        vertical-align: middle;\n",
       "    }\n",
       "\n",
       "    .dataframe tbody tr th {\n",
       "        vertical-align: top;\n",
       "    }\n",
       "\n",
       "    .dataframe thead th {\n",
       "        text-align: right;\n",
       "    }\n",
       "</style>\n",
       "<table border=\"1\" class=\"dataframe\">\n",
       "  <thead>\n",
       "    <tr style=\"text-align: right;\">\n",
       "      <th></th>\n",
       "      <th>listing_id</th>\n",
       "      <th>date</th>\n",
       "      <th>available</th>\n",
       "      <th>price</th>\n",
       "      <th>adjusted_price</th>\n",
       "      <th>minimum_nights</th>\n",
       "      <th>maximum_nights</th>\n",
       "      <th>Year</th>\n",
       "      <th>Month</th>\n",
       "      <th>Day</th>\n",
       "    </tr>\n",
       "  </thead>\n",
       "  <tbody>\n",
       "    <tr>\n",
       "      <th>0</th>\n",
       "      <td>32539265</td>\n",
       "      <td>2019-03-07</td>\n",
       "      <td>f</td>\n",
       "      <td>218.0</td>\n",
       "      <td>$218.00</td>\n",
       "      <td>2</td>\n",
       "      <td>1125</td>\n",
       "      <td>2019</td>\n",
       "      <td>03</td>\n",
       "      <td>07</td>\n",
       "    </tr>\n",
       "    <tr>\n",
       "      <th>1</th>\n",
       "      <td>32539265</td>\n",
       "      <td>2019-03-08</td>\n",
       "      <td>f</td>\n",
       "      <td>219.0</td>\n",
       "      <td>$219.00</td>\n",
       "      <td>2</td>\n",
       "      <td>1125</td>\n",
       "      <td>2019</td>\n",
       "      <td>03</td>\n",
       "      <td>08</td>\n",
       "    </tr>\n",
       "    <tr>\n",
       "      <th>2</th>\n",
       "      <td>32539265</td>\n",
       "      <td>2019-03-09</td>\n",
       "      <td>f</td>\n",
       "      <td>219.0</td>\n",
       "      <td>$219.00</td>\n",
       "      <td>2</td>\n",
       "      <td>1125</td>\n",
       "      <td>2019</td>\n",
       "      <td>03</td>\n",
       "      <td>09</td>\n",
       "    </tr>\n",
       "    <tr>\n",
       "      <th>3</th>\n",
       "      <td>32539265</td>\n",
       "      <td>2019-03-10</td>\n",
       "      <td>f</td>\n",
       "      <td>219.0</td>\n",
       "      <td>$219.00</td>\n",
       "      <td>2</td>\n",
       "      <td>1125</td>\n",
       "      <td>2019</td>\n",
       "      <td>03</td>\n",
       "      <td>10</td>\n",
       "    </tr>\n",
       "    <tr>\n",
       "      <th>4</th>\n",
       "      <td>32539265</td>\n",
       "      <td>2019-03-11</td>\n",
       "      <td>f</td>\n",
       "      <td>218.0</td>\n",
       "      <td>$218.00</td>\n",
       "      <td>2</td>\n",
       "      <td>1125</td>\n",
       "      <td>2019</td>\n",
       "      <td>03</td>\n",
       "      <td>11</td>\n",
       "    </tr>\n",
       "  </tbody>\n",
       "</table>\n",
       "</div>"
      ],
      "text/plain": [
       "   listing_id        date available  price adjusted_price  minimum_nights  \\\n",
       "0    32539265  2019-03-07         f  218.0        $218.00               2   \n",
       "1    32539265  2019-03-08         f  219.0        $219.00               2   \n",
       "2    32539265  2019-03-09         f  219.0        $219.00               2   \n",
       "3    32539265  2019-03-10         f  219.0        $219.00               2   \n",
       "4    32539265  2019-03-11         f  218.0        $218.00               2   \n",
       "\n",
       "   maximum_nights  Year Month Day  \n",
       "0            1125  2019    03  07  \n",
       "1            1125  2019    03  08  \n",
       "2            1125  2019    03  09  \n",
       "3            1125  2019    03  10  \n",
       "4            1125  2019    03  11  "
      ]
     },
     "execution_count": 1,
     "metadata": {},
     "output_type": "execute_result"
    }
   ],
   "source": [
    "\n",
    "\n",
    "import pandas as pd\n",
    "import numpy as np\n",
    "import re\n",
    "\n",
    "calendarDF=pd.read_csv(\"../data/calendar.csv\")\n",
    "\n",
    "#replacing NaN values with 0\n",
    "calendarDF.fillna(0, inplace=True)\n",
    "calendarDF = calendarDF[calendarDF.price != 0]\n",
    "\n",
    "#Extracting prices from the table\n",
    "price = calendarDF['price']\n",
    "prices=[]\n",
    "\n",
    "for p in price:\n",
    "    p = re.sub('[^0-9.]+','', p)\n",
    "    prices.append(float(p))\n",
    "    \n",
    "#replace the price column with the new column\n",
    "calendarDF['price']=prices\n",
    "\n",
    "calendarDF = calendarDF[calendarDF.price >= 0]\n",
    "\n",
    "#separating date column into day month and year\n",
    "calendarDF['Year'],calendarDF['Month'],calendarDF['Day']=calendarDF['date'].str.split('-',2).str\n",
    "calendarDF.head()\n"
   ]
  },
  {
   "cell_type": "markdown",
   "metadata": {},
   "source": [
    "Cleaning of data has been done and added new columns namely Year,Month and Day by splitting date.I analyzed the data by group it on the basis of Year and Month to see the trend of prices"
   ]
  },
  {
   "cell_type": "code",
   "execution_count": 2,
   "metadata": {},
   "outputs": [
    {
     "data": {
      "text/html": [
       "<div>\n",
       "<style scoped>\n",
       "    .dataframe tbody tr th:only-of-type {\n",
       "        vertical-align: middle;\n",
       "    }\n",
       "\n",
       "    .dataframe tbody tr th {\n",
       "        vertical-align: top;\n",
       "    }\n",
       "\n",
       "    .dataframe thead th {\n",
       "        text-align: right;\n",
       "    }\n",
       "</style>\n",
       "<table border=\"1\" class=\"dataframe\">\n",
       "  <thead>\n",
       "    <tr style=\"text-align: right;\">\n",
       "      <th></th>\n",
       "      <th>Year</th>\n",
       "      <th>Month</th>\n",
       "      <th>average_Price</th>\n",
       "      <th>year-Month</th>\n",
       "    </tr>\n",
       "  </thead>\n",
       "  <tbody>\n",
       "    <tr>\n",
       "      <th>0</th>\n",
       "      <td>2019</td>\n",
       "      <td>03</td>\n",
       "      <td>154.523717</td>\n",
       "      <td>2019-03</td>\n",
       "    </tr>\n",
       "    <tr>\n",
       "      <th>1</th>\n",
       "      <td>2019</td>\n",
       "      <td>04</td>\n",
       "      <td>152.990941</td>\n",
       "      <td>2019-04</td>\n",
       "    </tr>\n",
       "    <tr>\n",
       "      <th>2</th>\n",
       "      <td>2019</td>\n",
       "      <td>05</td>\n",
       "      <td>152.460873</td>\n",
       "      <td>2019-05</td>\n",
       "    </tr>\n",
       "    <tr>\n",
       "      <th>3</th>\n",
       "      <td>2019</td>\n",
       "      <td>06</td>\n",
       "      <td>157.387932</td>\n",
       "      <td>2019-06</td>\n",
       "    </tr>\n",
       "    <tr>\n",
       "      <th>4</th>\n",
       "      <td>2019</td>\n",
       "      <td>07</td>\n",
       "      <td>160.326112</td>\n",
       "      <td>2019-07</td>\n",
       "    </tr>\n",
       "  </tbody>\n",
       "</table>\n",
       "</div>"
      ],
      "text/plain": [
       "   Year Month  average_Price year-Month\n",
       "0  2019    03     154.523717    2019-03\n",
       "1  2019    04     152.990941    2019-04\n",
       "2  2019    05     152.460873    2019-05\n",
       "3  2019    06     157.387932    2019-06\n",
       "4  2019    07     160.326112    2019-07"
      ]
     },
     "execution_count": 2,
     "metadata": {},
     "output_type": "execute_result"
    }
   ],
   "source": [
    "yearDF=calendarDF.groupby(['Year','Month']).price.mean()\n",
    "yearDF=yearDF.reset_index()\n",
    "yearDF=yearDF.rename(columns={'price':'average_Price'})\n",
    "yearDF['year-Month']=yearDF['Year'].map(str) + \"-\" + yearDF['Month'].map(str)\n",
    "yearDF.to_csv('year_month_data.csv')\n",
    "yearDF.head()"
   ]
  },
  {
   "cell_type": "markdown",
   "metadata": {},
   "source": [
    "It can be seen that the data is available from March 2019 to March 2020 and when average prices are analyzed maximum rates for the listings were in the month of May. Visualizing the same for a better understanding"
   ]
  },
  {
   "cell_type": "markdown",
   "metadata": {},
   "source": [
    "#### Visualizing the trend of year/Month and average prices of the listing"
   ]
  },
  {
   "cell_type": "code",
   "execution_count": 3,
   "metadata": {},
   "outputs": [
    {
     "data": {
      "text/plain": [
       "Text(0,0.5,'Average Price')"
      ]
     },
     "execution_count": 3,
     "metadata": {},
     "output_type": "execute_result"
    },
    {
     "data": {
      "image/png": "[encoded data removed]",
      "text/plain": [
       "<Figure size 1080x576 with 1 Axes>"
      ]
     },
     "metadata": {},
     "output_type": "display_data"
    }
   ],
   "source": [
    "\n",
    "\n",
    "%matplotlib inline\n",
    "\n",
    "import matplotlib\n",
    "import matplotlib.pyplot as plt\n",
    "matplotlib.style.use('ggplot')\n",
    "\n",
    "objects = yearDF['year-Month']\n",
    "y_pos = yearDF['average_Price']\n",
    "\n",
    "yearDF.plot(kind='bar', \n",
    "           x='year-Month',\n",
    "           y='average_Price',\n",
    "           color = '#66c2ff', \n",
    "           figsize =(15,8), \n",
    "           title = 'Melbourne Airbnb prices trend over months', \n",
    "           legend = False)\n",
    "plt.ylabel('Average Price')\n"
   ]
  },
  {
   "cell_type": "markdown",
   "metadata": {},
   "source": [
    "It can be clearly seen that the maximum average price for listings were in the month of January, 2020 and November 2019.\n",
    "To analyze the data further, I have extracted name of the day from given date and checked weather it was a holiday and what is the reason for that holiday."
   ]
  },
  {
   "cell_type": "code",
   "execution_count": 4,
   "metadata": {},
   "outputs": [
    {
     "name": "stderr",
     "output_type": "stream",
     "text": [
      "C:\\Users\\chait\\Anaconda3.7\\lib\\site-packages\\ipykernel_launcher.py:17: FutureWarning: set_value is deprecated and will be removed in a future release. Please use .at[] or .iat[] accessors instead\n",
      "C:\\Users\\chait\\Anaconda3.7\\lib\\site-packages\\ipykernel_launcher.py:18: FutureWarning: set_value is deprecated and will be removed in a future release. Please use .at[] or .iat[] accessors instead\n",
      "C:\\Users\\chait\\Anaconda3.7\\lib\\site-packages\\ipykernel_launcher.py:19: FutureWarning: set_value is deprecated and will be removed in a future release. Please use .at[] or .iat[] accessors instead\n"
     ]
    },
    {
     "data": {
      "text/html": [
       "<div>\n",
       "<style scoped>\n",
       "    .dataframe tbody tr th:only-of-type {\n",
       "        vertical-align: middle;\n",
       "    }\n",
       "\n",
       "    .dataframe tbody tr th {\n",
       "        vertical-align: top;\n",
       "    }\n",
       "\n",
       "    .dataframe thead th {\n",
       "        text-align: right;\n",
       "    }\n",
       "</style>\n",
       "<table border=\"1\" class=\"dataframe\">\n",
       "  <thead>\n",
       "    <tr style=\"text-align: right;\">\n",
       "      <th></th>\n",
       "      <th>listing_id</th>\n",
       "      <th>date</th>\n",
       "      <th>available</th>\n",
       "      <th>price</th>\n",
       "      <th>adjusted_price</th>\n",
       "      <th>minimum_nights</th>\n",
       "      <th>maximum_nights</th>\n",
       "      <th>Year</th>\n",
       "      <th>Month</th>\n",
       "      <th>Day</th>\n",
       "      <th>day_Name</th>\n",
       "      <th>holiday</th>\n",
       "      <th>aus_holidays_name</th>\n",
       "    </tr>\n",
       "  </thead>\n",
       "  <tbody>\n",
       "    <tr>\n",
       "      <th>0</th>\n",
       "      <td>32539265</td>\n",
       "      <td>2019-03-07</td>\n",
       "      <td>f</td>\n",
       "      <td>218.0</td>\n",
       "      <td>$218.00</td>\n",
       "      <td>2</td>\n",
       "      <td>1125</td>\n",
       "      <td>2019</td>\n",
       "      <td>03</td>\n",
       "      <td>07</td>\n",
       "      <td>Thursday</td>\n",
       "      <td>False</td>\n",
       "      <td>None</td>\n",
       "    </tr>\n",
       "    <tr>\n",
       "      <th>1</th>\n",
       "      <td>32539265</td>\n",
       "      <td>2019-03-08</td>\n",
       "      <td>f</td>\n",
       "      <td>219.0</td>\n",
       "      <td>$219.00</td>\n",
       "      <td>2</td>\n",
       "      <td>1125</td>\n",
       "      <td>2019</td>\n",
       "      <td>03</td>\n",
       "      <td>08</td>\n",
       "      <td>Friday</td>\n",
       "      <td>False</td>\n",
       "      <td>None</td>\n",
       "    </tr>\n",
       "    <tr>\n",
       "      <th>2</th>\n",
       "      <td>32539265</td>\n",
       "      <td>2019-03-09</td>\n",
       "      <td>f</td>\n",
       "      <td>219.0</td>\n",
       "      <td>$219.00</td>\n",
       "      <td>2</td>\n",
       "      <td>1125</td>\n",
       "      <td>2019</td>\n",
       "      <td>03</td>\n",
       "      <td>09</td>\n",
       "      <td>Saturday</td>\n",
       "      <td>False</td>\n",
       "      <td>None</td>\n",
       "    </tr>\n",
       "    <tr>\n",
       "      <th>3</th>\n",
       "      <td>32539265</td>\n",
       "      <td>2019-03-10</td>\n",
       "      <td>f</td>\n",
       "      <td>219.0</td>\n",
       "      <td>$219.00</td>\n",
       "      <td>2</td>\n",
       "      <td>1125</td>\n",
       "      <td>2019</td>\n",
       "      <td>03</td>\n",
       "      <td>10</td>\n",
       "      <td>Sunday</td>\n",
       "      <td>False</td>\n",
       "      <td>None</td>\n",
       "    </tr>\n",
       "    <tr>\n",
       "      <th>4</th>\n",
       "      <td>32539265</td>\n",
       "      <td>2019-03-11</td>\n",
       "      <td>f</td>\n",
       "      <td>218.0</td>\n",
       "      <td>$218.00</td>\n",
       "      <td>2</td>\n",
       "      <td>1125</td>\n",
       "      <td>2019</td>\n",
       "      <td>03</td>\n",
       "      <td>11</td>\n",
       "      <td>Monday</td>\n",
       "      <td>False</td>\n",
       "      <td>None</td>\n",
       "    </tr>\n",
       "  </tbody>\n",
       "</table>\n",
       "</div>"
      ],
      "text/plain": [
       "   listing_id        date available  price adjusted_price  minimum_nights  \\\n",
       "0    32539265  2019-03-07         f  218.0        $218.00               2   \n",
       "1    32539265  2019-03-08         f  219.0        $219.00               2   \n",
       "2    32539265  2019-03-09         f  219.0        $219.00               2   \n",
       "3    32539265  2019-03-10         f  219.0        $219.00               2   \n",
       "4    32539265  2019-03-11         f  218.0        $218.00               2   \n",
       "\n",
       "   maximum_nights  Year Month Day  day_Name holiday aus_holidays_name  \n",
       "0            1125  2019    03  07  Thursday   False              None  \n",
       "1            1125  2019    03  08    Friday   False              None  \n",
       "2            1125  2019    03  09  Saturday   False              None  \n",
       "3            1125  2019    03  10    Sunday   False              None  \n",
       "4            1125  2019    03  11    Monday   False              None  "
      ]
     },
     "execution_count": 4,
     "metadata": {},
     "output_type": "execute_result"
    }
   ],
   "source": [
    "#getting day name from date data and holidays\n",
    "\n",
    "from datetime import date\n",
    "import datetime\n",
    "import calendar\n",
    "import holidays\n",
    "\n",
    "calendarDF.fillna(0, inplace=True)\n",
    "aus_holidays = holidays.AU()\n",
    "\n",
    "calendarDF['day_Name']='default'\n",
    "calendarDF['holiday']='False'\n",
    "calendarDF['aus_holidays_name']='working'\n",
    "for index,row in calendarDF.iterrows():\n",
    "    sdate = datetime.date(int(row['Year']),int(row['Month']),int(row['Day']))\n",
    "    vall=date(int(row['Year']),int(row['Month']),int(row['Day'])) in aus_holidays\n",
    "    calendarDF.set_value(index,'day_Name',calendar.day_name[sdate.weekday()])\n",
    "    calendarDF.set_value(index,'holiday',vall)\n",
    "    calendarDF.set_value(index,'aus_holidays_name',aus_holidays.get(sdate))\n",
    "calendarDF.to_csv('holidays_data.csv')\n",
    "calendarDF.head()\n"
   ]
  },
  {
   "cell_type": "markdown",
   "metadata": {},
   "source": [
    "Added 3 new columns Day_Name, Holiday and aus_holiday_name which counsits of name of the day, boolean value for \"is it a holiday?\" and reason for the holiday respectively."
   ]
  },
  {
   "cell_type": "code",
   "execution_count": 5,
   "metadata": {},
   "outputs": [
    {
     "name": "stderr",
     "output_type": "stream",
     "text": [
      "C:\\Users\\chait\\Anaconda3.7\\lib\\site-packages\\ipykernel_launcher.py:17: FutureWarning: set_value is deprecated and will be removed in a future release. Please use .at[] or .iat[] accessors instead\n",
      "C:\\Users\\chait\\Anaconda3.7\\lib\\site-packages\\ipykernel_launcher.py:9: FutureWarning: set_value is deprecated and will be removed in a future release. Please use .at[] or .iat[] accessors instead\n",
      "  if __name__ == '__main__':\n",
      "C:\\Users\\chait\\Anaconda3.7\\lib\\site-packages\\ipykernel_launcher.py:19: FutureWarning: set_value is deprecated and will be removed in a future release. Please use .at[] or .iat[] accessors instead\n",
      "C:\\Users\\chait\\Anaconda3.7\\lib\\site-packages\\ipykernel_launcher.py:21: FutureWarning: set_value is deprecated and will be removed in a future release. Please use .at[] or .iat[] accessors instead\n",
      "C:\\Users\\chait\\Anaconda3.7\\lib\\site-packages\\ipykernel_launcher.py:15: FutureWarning: set_value is deprecated and will be removed in a future release. Please use .at[] or .iat[] accessors instead\n",
      "  from ipykernel import kernelapp as app\n",
      "C:\\Users\\chait\\Anaconda3.7\\lib\\site-packages\\ipykernel_launcher.py:11: FutureWarning: set_value is deprecated and will be removed in a future release. Please use .at[] or .iat[] accessors instead\n",
      "  # This is added back by InteractiveShellApp.init_path()\n",
      "C:\\Users\\chait\\Anaconda3.7\\lib\\site-packages\\ipykernel_launcher.py:13: FutureWarning: set_value is deprecated and will be removed in a future release. Please use .at[] or .iat[] accessors instead\n",
      "  del sys.path[0]\n"
     ]
    },
    {
     "data": {
      "text/html": [
       "<div>\n",
       "<style scoped>\n",
       "    .dataframe tbody tr th:only-of-type {\n",
       "        vertical-align: middle;\n",
       "    }\n",
       "\n",
       "    .dataframe tbody tr th {\n",
       "        vertical-align: top;\n",
       "    }\n",
       "\n",
       "    .dataframe thead th {\n",
       "        text-align: right;\n",
       "    }\n",
       "</style>\n",
       "<table border=\"1\" class=\"dataframe\">\n",
       "  <thead>\n",
       "    <tr style=\"text-align: right;\">\n",
       "      <th></th>\n",
       "      <th>day_Name</th>\n",
       "      <th>Average_Price</th>\n",
       "      <th>day_num</th>\n",
       "    </tr>\n",
       "  </thead>\n",
       "  <tbody>\n",
       "    <tr>\n",
       "      <th>1</th>\n",
       "      <td>Monday</td>\n",
       "      <td>160.763548</td>\n",
       "      <td>1</td>\n",
       "    </tr>\n",
       "    <tr>\n",
       "      <th>5</th>\n",
       "      <td>Tuesday</td>\n",
       "      <td>160.895782</td>\n",
       "      <td>2</td>\n",
       "    </tr>\n",
       "    <tr>\n",
       "      <th>6</th>\n",
       "      <td>Wednesday</td>\n",
       "      <td>160.922975</td>\n",
       "      <td>3</td>\n",
       "    </tr>\n",
       "    <tr>\n",
       "      <th>4</th>\n",
       "      <td>Thursday</td>\n",
       "      <td>161.455177</td>\n",
       "      <td>4</td>\n",
       "    </tr>\n",
       "    <tr>\n",
       "      <th>0</th>\n",
       "      <td>Friday</td>\n",
       "      <td>173.014720</td>\n",
       "      <td>5</td>\n",
       "    </tr>\n",
       "    <tr>\n",
       "      <th>2</th>\n",
       "      <td>Saturday</td>\n",
       "      <td>173.831432</td>\n",
       "      <td>6</td>\n",
       "    </tr>\n",
       "    <tr>\n",
       "      <th>3</th>\n",
       "      <td>Sunday</td>\n",
       "      <td>161.858243</td>\n",
       "      <td>7</td>\n",
       "    </tr>\n",
       "  </tbody>\n",
       "</table>\n",
       "</div>"
      ],
      "text/plain": [
       "    day_Name  Average_Price  day_num\n",
       "1     Monday     160.763548        1\n",
       "5    Tuesday     160.895782        2\n",
       "6  Wednesday     160.922975        3\n",
       "4   Thursday     161.455177        4\n",
       "0     Friday     173.014720        5\n",
       "2   Saturday     173.831432        6\n",
       "3     Sunday     161.858243        7"
      ]
     },
     "execution_count": 5,
     "metadata": {},
     "output_type": "execute_result"
    }
   ],
   "source": [
    "#calculating Average price for each day\n",
    "\n",
    "dayDF=calendarDF.groupby('day_Name').price.mean()\n",
    "dayDF=dayDF.reset_index()\n",
    "dayDF['day_num']=0\n",
    "\n",
    "for index,row in dayDF.iterrows():\n",
    "    if row['day_Name']=='Monday':\n",
    "        dayDF.set_value(index,'day_num',1)\n",
    "    if row['day_Name']=='Tuesday':\n",
    "        dayDF.set_value(index,'day_num',2)\n",
    "    if row['day_Name']=='Wednesday':\n",
    "        dayDF.set_value(index,'day_num',3)\n",
    "    if row['day_Name']=='Thursday':\n",
    "        dayDF.set_value(index,'day_num',4)\n",
    "    if row['day_Name']=='Friday':\n",
    "        dayDF.set_value(index,'day_num',5)\n",
    "    if row['day_Name']=='Saturday':\n",
    "        dayDF.set_value(index,'day_num',6)\n",
    "    if row['day_Name']=='Sunday':\n",
    "        dayDF.set_value(index,'day_num',7)\n",
    "dayDF=dayDF.sort_values('day_num',ascending=[1])\n",
    "dayDF=dayDF.rename(columns={'price':'Average_Price'})\n",
    "dayDF"
   ]
  },
  {
   "cell_type": "markdown",
   "metadata": {},
   "source": [
    "It can be seen that the average price of listings increases on weekends and are usual on weekdays.Lets plot it to get a better understanding"
   ]
  },
  {
   "cell_type": "code",
   "execution_count": 6,
   "metadata": {},
   "outputs": [
    {
     "data": {
      "image/png": "[encoded data removed]",
      "text/plain": [
       "<Figure size 432x288 with 1 Axes>"
      ]
     },
     "metadata": {
      "needs_background": "light"
     },
     "output_type": "display_data"
    }
   ],
   "source": [
    "import matplotlib.pyplot as plt\n",
    "dayname = list()\n",
    "for i in dayDF['day_Name']:\n",
    "    dayname.append(i)\n",
    "avgprice = list()\n",
    "for i in dayDF['Average_Price']:\n",
    "    avgprice.append(i)\n",
    "graph_input = dict(zip(dayname,avgprice))\n",
    "\n",
    "plt.scatter(dayname,avgprice)\n",
    "plt.show()\n"
   ]
  },
  {
   "cell_type": "markdown",
   "metadata": {},
   "source": [
    "It can be seen that the prices are fairly high for the weekends than that of weekdays.Now we need to dig in into Sept 2016 and oct 2016 data to find the reason behind increase in Average prices.\n",
    "Analyzing all the holidays"
   ]
  },
  {
   "cell_type": "code",
   "execution_count": 7,
   "metadata": {},
   "outputs": [
    {
     "data": {
      "text/html": [
       "<div>\n",
       "<style scoped>\n",
       "    .dataframe tbody tr th:only-of-type {\n",
       "        vertical-align: middle;\n",
       "    }\n",
       "\n",
       "    .dataframe tbody tr th {\n",
       "        vertical-align: top;\n",
       "    }\n",
       "\n",
       "    .dataframe thead th {\n",
       "        text-align: right;\n",
       "    }\n",
       "</style>\n",
       "<table border=\"1\" class=\"dataframe\">\n",
       "  <thead>\n",
       "    <tr style=\"text-align: right;\">\n",
       "      <th></th>\n",
       "      <th>aus_holidays_name</th>\n",
       "      <th>listing_id</th>\n",
       "    </tr>\n",
       "  </thead>\n",
       "  <tbody>\n",
       "    <tr>\n",
       "      <th>0</th>\n",
       "      <td>Anzac Day</td>\n",
       "      <td>22909</td>\n",
       "    </tr>\n",
       "    <tr>\n",
       "      <th>1</th>\n",
       "      <td>Australia Day</td>\n",
       "      <td>22909</td>\n",
       "    </tr>\n",
       "    <tr>\n",
       "      <th>2</th>\n",
       "      <td>Australia Day (Observed)</td>\n",
       "      <td>22909</td>\n",
       "    </tr>\n",
       "    <tr>\n",
       "      <th>3</th>\n",
       "      <td>Boxing Day</td>\n",
       "      <td>22909</td>\n",
       "    </tr>\n",
       "    <tr>\n",
       "      <th>4</th>\n",
       "      <td>Christmas Day</td>\n",
       "      <td>22909</td>\n",
       "    </tr>\n",
       "    <tr>\n",
       "      <th>5</th>\n",
       "      <td>Easter Monday</td>\n",
       "      <td>22909</td>\n",
       "    </tr>\n",
       "    <tr>\n",
       "      <th>6</th>\n",
       "      <td>Good Friday</td>\n",
       "      <td>22909</td>\n",
       "    </tr>\n",
       "    <tr>\n",
       "      <th>7</th>\n",
       "      <td>New Year's Day</td>\n",
       "      <td>22909</td>\n",
       "    </tr>\n",
       "  </tbody>\n",
       "</table>\n",
       "</div>"
      ],
      "text/plain": [
       "          aus_holidays_name  listing_id\n",
       "0                 Anzac Day       22909\n",
       "1             Australia Day       22909\n",
       "2  Australia Day (Observed)       22909\n",
       "3                Boxing Day       22909\n",
       "4             Christmas Day       22909\n",
       "5             Easter Monday       22909\n",
       "6               Good Friday       22909\n",
       "7            New Year's Day       22909"
      ]
     },
     "execution_count": 7,
     "metadata": {},
     "output_type": "execute_result"
    }
   ],
   "source": [
    "#checking which holiday has maximum listings\n",
    "\n",
    "holidayDF=calendarDF.groupby('aus_holidays_name').listing_id.count()\n",
    "holidayDF=holidayDF.reset_index()\n",
    "holidayDF=holidayDF.sort_values('listing_id',ascending=[0])\n",
    "holidayDF"
   ]
  },
  {
   "cell_type": "code",
   "execution_count": 8,
   "metadata": {},
   "outputs": [
    {
     "data": {
      "text/plain": [
       "[Text(0,0.5,'Total Number of Listings'), Text(0.5,0,'Australia Holidays Name')]"
      ]
     },
     "execution_count": 8,
     "metadata": {},
     "output_type": "execute_result"
    },
    {
     "data": {
      "image/png": "[encoded data removed]",
      "text/plain": [
       "<Figure size 1368x576 with 1 Axes>"
      ]
     },
     "metadata": {
      "needs_background": "light"
     },
     "output_type": "display_data"
    }
   ],
   "source": [
    "# visualizing the same\n",
    "import seaborn as sns\n",
    "import matplotlib.pyplot as plt\n",
    "\n",
    "plt.figure(figsize=(19,8))\n",
    "ax = sns.barplot(\"aus_holidays_name\", y=\"listing_id\", data=holidayDF,palette=\"Blues_d\")\n",
    "ax.set(xlabel='Australia Holidays Name', ylabel='Total Number of Listings')"
   ]
  },
  {
   "cell_type": "markdown",
   "metadata": {},
   "source": [
    "It can be seen that the maximum number of listings is for thanksgiving which can be reasoned as its a very popular holiday.Lets dig in further to find which holiday has the maximum average price."
   ]
  },
  {
   "cell_type": "code",
   "execution_count": 9,
   "metadata": {},
   "outputs": [
    {
     "data": {
      "text/html": [
       "<div>\n",
       "<style scoped>\n",
       "    .dataframe tbody tr th:only-of-type {\n",
       "        vertical-align: middle;\n",
       "    }\n",
       "\n",
       "    .dataframe tbody tr th {\n",
       "        vertical-align: top;\n",
       "    }\n",
       "\n",
       "    .dataframe thead th {\n",
       "        text-align: right;\n",
       "    }\n",
       "</style>\n",
       "<table border=\"1\" class=\"dataframe\">\n",
       "  <thead>\n",
       "    <tr style=\"text-align: right;\">\n",
       "      <th></th>\n",
       "      <th>aus_holidays_name</th>\n",
       "      <th>price</th>\n",
       "    </tr>\n",
       "  </thead>\n",
       "  <tbody>\n",
       "    <tr>\n",
       "      <th>7</th>\n",
       "      <td>New Year's Day</td>\n",
       "      <td>177.152473</td>\n",
       "    </tr>\n",
       "    <tr>\n",
       "      <th>3</th>\n",
       "      <td>Boxing Day</td>\n",
       "      <td>176.669475</td>\n",
       "    </tr>\n",
       "    <tr>\n",
       "      <th>1</th>\n",
       "      <td>Australia Day</td>\n",
       "      <td>174.676197</td>\n",
       "    </tr>\n",
       "    <tr>\n",
       "      <th>4</th>\n",
       "      <td>Christmas Day</td>\n",
       "      <td>174.588590</td>\n",
       "    </tr>\n",
       "    <tr>\n",
       "      <th>2</th>\n",
       "      <td>Australia Day (Observed)</td>\n",
       "      <td>172.576367</td>\n",
       "    </tr>\n",
       "    <tr>\n",
       "      <th>6</th>\n",
       "      <td>Good Friday</td>\n",
       "      <td>165.013444</td>\n",
       "    </tr>\n",
       "    <tr>\n",
       "      <th>5</th>\n",
       "      <td>Easter Monday</td>\n",
       "      <td>152.385438</td>\n",
       "    </tr>\n",
       "    <tr>\n",
       "      <th>0</th>\n",
       "      <td>Anzac Day</td>\n",
       "      <td>151.500808</td>\n",
       "    </tr>\n",
       "  </tbody>\n",
       "</table>\n",
       "</div>"
      ],
      "text/plain": [
       "          aus_holidays_name       price\n",
       "7            New Year's Day  177.152473\n",
       "3                Boxing Day  176.669475\n",
       "1             Australia Day  174.676197\n",
       "4             Christmas Day  174.588590\n",
       "2  Australia Day (Observed)  172.576367\n",
       "6               Good Friday  165.013444\n",
       "5             Easter Monday  152.385438\n",
       "0                 Anzac Day  151.500808"
      ]
     },
     "execution_count": 9,
     "metadata": {},
     "output_type": "execute_result"
    }
   ],
   "source": [
    "holidayPriceDF=calendarDF.groupby('aus_holidays_name').price.mean()\n",
    "holidayPriceDF=holidayPriceDF.reset_index()\n",
    "holidayPriceDF=holidayPriceDF.sort_values('price',ascending=[0])\n",
    "\n",
    "holidayPriceDF.head(10)"
   ]
  },
  {
   "cell_type": "code",
   "execution_count": 10,
   "metadata": {},
   "outputs": [
    {
     "data": {
      "text/plain": [
       "[Text(0,0.5,'Average Price'), Text(0.5,0,'Australia Holidays Name')]"
      ]
     },
     "execution_count": 10,
     "metadata": {},
     "output_type": "execute_result"
    },
    {
     "data": {
      "image/png": "[encoded data removed]",
      "text/plain": [
       "<Figure size 1368x576 with 1 Axes>"
      ]
     },
     "metadata": {
      "needs_background": "light"
     },
     "output_type": "display_data"
    }
   ],
   "source": [
    "# visualizing the same\n",
    "import seaborn as sns\n",
    "import matplotlib.pyplot as plt\n",
    "\n",
    "plt.figure(figsize=(19,8))\n",
    "ax = sns.barplot(\"aus_holidays_name\", y=\"price\", data=holidayPriceDF,palette=\"Blues_d\")\n",
    "ax.set(xlabel='Australia Holidays Name', ylabel='Average Price')"
   ]
  },
  {
   "cell_type": "code",
   "execution_count": 11,
   "metadata": {},
   "outputs": [
    {
     "data": {
      "text/html": [
       "<div>\n",
       "<style scoped>\n",
       "    .dataframe tbody tr th:only-of-type {\n",
       "        vertical-align: middle;\n",
       "    }\n",
       "\n",
       "    .dataframe tbody tr th {\n",
       "        vertical-align: top;\n",
       "    }\n",
       "\n",
       "    .dataframe thead th {\n",
       "        text-align: right;\n",
       "    }\n",
       "</style>\n",
       "<table border=\"1\" class=\"dataframe\">\n",
       "  <thead>\n",
       "    <tr style=\"text-align: right;\">\n",
       "      <th></th>\n",
       "      <th>aus_holidays_name</th>\n",
       "      <th>number_Of_Listings</th>\n",
       "      <th>average_Price</th>\n",
       "    </tr>\n",
       "  </thead>\n",
       "  <tbody>\n",
       "    <tr>\n",
       "      <th>0</th>\n",
       "      <td>Anzac Day</td>\n",
       "      <td>22909</td>\n",
       "      <td>151.500808</td>\n",
       "    </tr>\n",
       "    <tr>\n",
       "      <th>1</th>\n",
       "      <td>Australia Day</td>\n",
       "      <td>22909</td>\n",
       "      <td>174.676197</td>\n",
       "    </tr>\n",
       "    <tr>\n",
       "      <th>2</th>\n",
       "      <td>Australia Day (Observed)</td>\n",
       "      <td>22909</td>\n",
       "      <td>172.576367</td>\n",
       "    </tr>\n",
       "    <tr>\n",
       "      <th>3</th>\n",
       "      <td>Boxing Day</td>\n",
       "      <td>22909</td>\n",
       "      <td>176.669475</td>\n",
       "    </tr>\n",
       "    <tr>\n",
       "      <th>4</th>\n",
       "      <td>Christmas Day</td>\n",
       "      <td>22909</td>\n",
       "      <td>174.588590</td>\n",
       "    </tr>\n",
       "    <tr>\n",
       "      <th>5</th>\n",
       "      <td>Easter Monday</td>\n",
       "      <td>22909</td>\n",
       "      <td>152.385438</td>\n",
       "    </tr>\n",
       "    <tr>\n",
       "      <th>6</th>\n",
       "      <td>Good Friday</td>\n",
       "      <td>22909</td>\n",
       "      <td>165.013444</td>\n",
       "    </tr>\n",
       "    <tr>\n",
       "      <th>7</th>\n",
       "      <td>New Year's Day</td>\n",
       "      <td>22909</td>\n",
       "      <td>177.152473</td>\n",
       "    </tr>\n",
       "  </tbody>\n",
       "</table>\n",
       "</div>"
      ],
      "text/plain": [
       "          aus_holidays_name  number_Of_Listings  average_Price\n",
       "0                 Anzac Day               22909     151.500808\n",
       "1             Australia Day               22909     174.676197\n",
       "2  Australia Day (Observed)               22909     172.576367\n",
       "3                Boxing Day               22909     176.669475\n",
       "4             Christmas Day               22909     174.588590\n",
       "5             Easter Monday               22909     152.385438\n",
       "6               Good Friday               22909     165.013444\n",
       "7            New Year's Day               22909     177.152473"
      ]
     },
     "execution_count": 11,
     "metadata": {},
     "output_type": "execute_result"
    }
   ],
   "source": [
    "merger=pd.merge(holidayDF,holidayPriceDF,on='aus_holidays_name')\n",
    "merger=merger.rename(columns={'listing_id':'number_Of_Listings'})\n",
    "merger=merger.rename(columns={'price':'average_Price'})\n",
    "merger"
   ]
  },
  {
   "cell_type": "code",
   "execution_count": 29,
   "metadata": {},
   "outputs": [
    {
     "data": {
      "text/html": [
       "<div>\n",
       "<style scoped>\n",
       "    .dataframe tbody tr th:only-of-type {\n",
       "        vertical-align: middle;\n",
       "    }\n",
       "\n",
       "    .dataframe tbody tr th {\n",
       "        vertical-align: top;\n",
       "    }\n",
       "\n",
       "    .dataframe thead th {\n",
       "        text-align: right;\n",
       "    }\n",
       "</style>\n",
       "<table border=\"1\" class=\"dataframe\">\n",
       "  <thead>\n",
       "    <tr style=\"text-align: right;\">\n",
       "      <th></th>\n",
       "      <th>Year</th>\n",
       "      <th>Month</th>\n",
       "      <th>holiday</th>\n",
       "      <th>price</th>\n",
       "    </tr>\n",
       "  </thead>\n",
       "  <tbody>\n",
       "    <tr>\n",
       "      <th>0</th>\n",
       "      <td>2019</td>\n",
       "      <td>10</td>\n",
       "      <td>False</td>\n",
       "      <td>168.941964</td>\n",
       "    </tr>\n",
       "    <tr>\n",
       "      <th>1</th>\n",
       "      <td>2020</td>\n",
       "      <td>01</td>\n",
       "      <td>False</td>\n",
       "      <td>175.697458</td>\n",
       "    </tr>\n",
       "    <tr>\n",
       "      <th>2</th>\n",
       "      <td>2020</td>\n",
       "      <td>01</td>\n",
       "      <td>True</td>\n",
       "      <td>174.801679</td>\n",
       "    </tr>\n",
       "  </tbody>\n",
       "</table>\n",
       "</div>"
      ],
      "text/plain": [
       "   Year Month  holiday       price\n",
       "0  2019    10    False  168.941964\n",
       "1  2020    01    False  175.697458\n",
       "2  2020    01     True  174.801679"
      ]
     },
     "execution_count": 29,
     "metadata": {},
     "output_type": "execute_result"
    }
   ],
   "source": [
    "checkHolidaysDF=calendarDF[((calendarDF['Year'] == '2019')|(calendarDF['Year'] == '2020')) & ((calendarDF['Month'] == '10') |(calendarDF['Month'] == '01') )]\n",
    "checkHolidaysDF=checkHolidaysDF.groupby(['Year','Month','holiday']).price.mean()\n",
    "checkHolidaysDF=checkHolidaysDF.reset_index()\n",
    "checkHolidaysDF.head()"
   ]
  },
  {
   "cell_type": "code",
   "execution_count": 30,
   "metadata": {},
   "outputs": [
    {
     "data": {
      "text/plain": [
       "Month\n",
       "10    178.97429\n",
       "Name: price, dtype: float64"
      ]
     },
     "execution_count": 30,
     "metadata": {},
     "output_type": "execute_result"
    }
   ],
   "source": [
    "#analyzing longweekednd holiday days\n",
    "\n",
    "columbusDF=calendarDF[(calendarDF['Year'] == '2019') & ((calendarDF['Month'] == '10' )) & ((calendarDF['Day'] == '05'))]\n",
    "columbusDF.groupby('Month').price.mean()\n",
    "# columbusDF"
   ]
  },
  {
   "cell_type": "code",
   "execution_count": 32,
   "metadata": {},
   "outputs": [
    {
     "data": {
      "text/plain": [
       "Month\n",
       "10    168.607553\n",
       "Name: price, dtype: float64"
      ]
     },
     "execution_count": 32,
     "metadata": {},
     "output_type": "execute_result"
    }
   ],
   "source": [
    "#analyzing rest of the days\n",
    "\n",
    "NocolumbusDF=calendarDF[(calendarDF['Year'] == '2019') & (calendarDF['Month'] == '10' ) & ((calendarDF['Day'] != '05'))]\n",
    "NocolumbusDF.groupby('Month').price.mean()"
   ]
  },
  {
   "cell_type": "markdown",
   "metadata": {},
   "source": [
    "It can be analyzed that on a long weekend the average price is 178.97 while for the whole month the average price was 168.6. <br>\n",
    "Hence, this suggests that the price of listings increase with resprect to the presence of weekend."
   ]
  },
  {
   "cell_type": "code",
   "execution_count": 26,
   "metadata": {},
   "outputs": [
    {
     "data": {
      "text/html": [
       "<div>\n",
       "<style scoped>\n",
       "    .dataframe tbody tr th:only-of-type {\n",
       "        vertical-align: middle;\n",
       "    }\n",
       "\n",
       "    .dataframe tbody tr th {\n",
       "        vertical-align: top;\n",
       "    }\n",
       "\n",
       "    .dataframe thead th {\n",
       "        text-align: right;\n",
       "    }\n",
       "</style>\n",
       "<table border=\"1\" class=\"dataframe\">\n",
       "  <thead>\n",
       "    <tr style=\"text-align: right;\">\n",
       "      <th></th>\n",
       "      <th>Day</th>\n",
       "      <th>Average_Price</th>\n",
       "    </tr>\n",
       "  </thead>\n",
       "  <tbody>\n",
       "    <tr>\n",
       "      <th>0</th>\n",
       "      <td>05</td>\n",
       "      <td>178.974290</td>\n",
       "    </tr>\n",
       "    <tr>\n",
       "      <th>1</th>\n",
       "      <td>06</td>\n",
       "      <td>165.895718</td>\n",
       "    </tr>\n",
       "    <tr>\n",
       "      <th>2</th>\n",
       "      <td>07</td>\n",
       "      <td>165.219783</td>\n",
       "    </tr>\n",
       "    <tr>\n",
       "      <th>3</th>\n",
       "      <td>08</td>\n",
       "      <td>165.216421</td>\n",
       "    </tr>\n",
       "    <tr>\n",
       "      <th>4</th>\n",
       "      <td>09</td>\n",
       "      <td>165.253176</td>\n",
       "    </tr>\n",
       "    <tr>\n",
       "      <th>5</th>\n",
       "      <td>10</td>\n",
       "      <td>165.452268</td>\n",
       "    </tr>\n",
       "    <tr>\n",
       "      <th>6</th>\n",
       "      <td>11</td>\n",
       "      <td>177.643241</td>\n",
       "    </tr>\n",
       "    <tr>\n",
       "      <th>7</th>\n",
       "      <td>12</td>\n",
       "      <td>178.329172</td>\n",
       "    </tr>\n",
       "    <tr>\n",
       "      <th>8</th>\n",
       "      <td>13</td>\n",
       "      <td>165.725217</td>\n",
       "    </tr>\n",
       "  </tbody>\n",
       "</table>\n",
       "</div>"
      ],
      "text/plain": [
       "  Day  Average_Price\n",
       "0  05     178.974290\n",
       "1  06     165.895718\n",
       "2  07     165.219783\n",
       "3  08     165.216421\n",
       "4  09     165.253176\n",
       "5  10     165.452268\n",
       "6  11     177.643241\n",
       "7  12     178.329172\n",
       "8  13     165.725217"
      ]
     },
     "execution_count": 26,
     "metadata": {},
     "output_type": "execute_result"
    }
   ],
   "source": [
    "# analyzing data from date 7th of March to date 13th of March which includes both long weekend and normal workdays\n",
    "\n",
    "marDF=calendarDF[(calendarDF['Year'] == '2019') & (calendarDF['Month'] == '10' )& ((calendarDF['Day'] == '05' )|(calendarDF['Day'] == '06' )| (calendarDF['Day'] == '07' )| (calendarDF['Day'] == '08' )| (calendarDF['Day'] == '09' )| (calendarDF['Day'] == '10' )| (calendarDF['Day'] == '11' )| (calendarDF['Day'] == '12' )| (calendarDF['Day'] == '13' ))]\n",
    "marDF=marDF.groupby('Day').price.mean()\n",
    "marDF=marDF.reset_index()\n",
    "marDF=marDF.sort_values('Day',ascending=[1])\n",
    "marDF=marDF.rename(columns={'price':'Average_Price'})\n",
    "marDF.head(10)"
   ]
  },
  {
   "cell_type": "code",
   "execution_count": 27,
   "metadata": {},
   "outputs": [
    {
     "data": {
      "image/png": "[encoded data removed]",
      "text/plain": [
       "<Figure size 432x288 with 1 Axes>"
      ]
     },
     "metadata": {
      "needs_background": "light"
     },
     "output_type": "display_data"
    }
   ],
   "source": [
    "import numpy as np\n",
    "import matplotlib.pyplot as plt\n",
    "\n",
    "x=marDF['Day'].tolist()\n",
    "y=marDF['Average_Price'].tolist()\n",
    "\n",
    "plt.plot(x,y, 'ro-')\n",
    "plt.ylabel('Average Price')\n",
    "plt.xlabel('Days')\n",
    "plt.show()"
   ]
  },
  {
   "cell_type": "markdown",
   "metadata": {},
   "source": [
    "Hence its can be seen that weekends have higher prices of listings which gives us another data point that price of a listing increases with the presence of weekend."
   ]
  },
  {
   "cell_type": "markdown",
   "metadata": {},
   "source": [
    "After adding up all the analyis done so far for observing seasonal changes in prices,it can be concluded that:\n",
    "\n",
    "1. If a traveller is visiting Melbourne on a low budget then he should avoid visiting in October and January as these are the times when average price of listings are fairly high as compared to the other months.\n",
    "2. If the taveller is on low budget then he should avoid visiting Melbourne on weekends as prices of listings on weekend are higher than that of weekdays.\n"
   ]
  }
 ],
 "metadata": {
  "kernelspec": {
   "display_name": "Python 3",
   "language": "python",
   "name": "python3"
  },
  "language_info": {
   "codemirror_mode": {
    "name": "ipython",
    "version": 3
   },
   "file_extension": ".py",
   "mimetype": "text/x-python",
   "name": "python",
   "nbconvert_exporter": "python",
   "pygments_lexer": "ipython3",
   "version": "3.7.0"
  }
 },
 "nbformat": 4,
 "nbformat_minor": 2
}
