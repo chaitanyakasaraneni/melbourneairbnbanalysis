{
 "cells": [
  {
   "cell_type": "markdown",
   "metadata": {},
   "source": [
    "# Host analysis and recommendation for prices"
   ]
  },
  {
   "cell_type": "markdown",
   "metadata": {},
   "source": [
    "   Let us analyze the trends of hosts of Airbnb in Melbourne."
   ]
  },
  {
   "cell_type": "markdown",
   "metadata": {},
   "source": [
    "#### Cleaning the data"
   ]
  },
  {
   "cell_type": "code",
   "execution_count": 2,
   "metadata": {},
   "outputs": [
    {
     "name": "stderr",
     "output_type": "stream",
     "text": [
      "C:\\Users\\chait\\Anaconda3.7\\lib\\site-packages\\IPython\\core\\interactiveshell.py:2785: DtypeWarning: Columns (43,94) have mixed types. Specify dtype option on import or set low_memory=False.\n",
      "  interactivity=interactivity, compiler=compiler, result=result)\n",
      "C:\\Users\\chait\\Anaconda3.7\\lib\\site-packages\\ipykernel_launcher.py:32: FutureWarning: set_value is deprecated and will be removed in a future release. Please use .at[] or .iat[] accessors instead\n",
      "C:\\Users\\chait\\Anaconda3.7\\lib\\site-packages\\ipykernel_launcher.py:33: FutureWarning: set_value is deprecated and will be removed in a future release. Please use .at[] or .iat[] accessors instead\n",
      "C:\\Users\\chait\\Anaconda3.7\\lib\\site-packages\\ipykernel_launcher.py:34: FutureWarning: set_value is deprecated and will be removed in a future release. Please use .at[] or .iat[] accessors instead\n"
     ]
    },
    {
     "data": {
      "text/html": [
       "<div>\n",
       "<style scoped>\n",
       "    .dataframe tbody tr th:only-of-type {\n",
       "        vertical-align: middle;\n",
       "    }\n",
       "\n",
       "    .dataframe tbody tr th {\n",
       "        vertical-align: top;\n",
       "    }\n",
       "\n",
       "    .dataframe thead th {\n",
       "        text-align: right;\n",
       "    }\n",
       "</style>\n",
       "<table border=\"1\" class=\"dataframe\">\n",
       "  <thead>\n",
       "    <tr style=\"text-align: right;\">\n",
       "      <th></th>\n",
       "      <th>id</th>\n",
       "      <th>instant_bookable</th>\n",
       "      <th>room_type</th>\n",
       "      <th>host_since</th>\n",
       "      <th>accommodates</th>\n",
       "      <th>bathrooms</th>\n",
       "      <th>bedrooms</th>\n",
       "      <th>beds</th>\n",
       "      <th>amenities</th>\n",
       "      <th>cancellation_policy</th>\n",
       "      <th>review_scores_rating</th>\n",
       "      <th>price</th>\n",
       "      <th>year</th>\n",
       "      <th>month</th>\n",
       "      <th>day</th>\n",
       "    </tr>\n",
       "  </thead>\n",
       "  <tbody>\n",
       "    <tr>\n",
       "      <th>0</th>\n",
       "      <td>9835</td>\n",
       "      <td>f</td>\n",
       "      <td>Private room</td>\n",
       "      <td>2009-08-21</td>\n",
       "      <td>2</td>\n",
       "      <td>1.0</td>\n",
       "      <td>1.0</td>\n",
       "      <td>2.0</td>\n",
       "      <td>{Internet,Wifi,\"Pets live on this property\",Do...</td>\n",
       "      <td>strict_14_with_grace_period</td>\n",
       "      <td>90.0</td>\n",
       "      <td>60.0</td>\n",
       "      <td>2009</td>\n",
       "      <td>08</td>\n",
       "      <td>21</td>\n",
       "    </tr>\n",
       "    <tr>\n",
       "      <th>1</th>\n",
       "      <td>10803</td>\n",
       "      <td>t</td>\n",
       "      <td>Private room</td>\n",
       "      <td>2009-09-16</td>\n",
       "      <td>2</td>\n",
       "      <td>1.0</td>\n",
       "      <td>1.0</td>\n",
       "      <td>1.0</td>\n",
       "      <td>{TV,Internet,Wifi,\"Air conditioning\",Kitchen,H...</td>\n",
       "      <td>strict_14_with_grace_period</td>\n",
       "      <td>88.0</td>\n",
       "      <td>36.0</td>\n",
       "      <td>2009</td>\n",
       "      <td>09</td>\n",
       "      <td>16</td>\n",
       "    </tr>\n",
       "    <tr>\n",
       "      <th>2</th>\n",
       "      <td>12936</td>\n",
       "      <td>f</td>\n",
       "      <td>Entire home/apt</td>\n",
       "      <td>2009-10-31</td>\n",
       "      <td>3</td>\n",
       "      <td>1.0</td>\n",
       "      <td>1.0</td>\n",
       "      <td>2.0</td>\n",
       "      <td>{TV,Internet,Wifi,\"Air conditioning\",Kitchen,\"...</td>\n",
       "      <td>strict_14_with_grace_period</td>\n",
       "      <td>91.0</td>\n",
       "      <td>159.0</td>\n",
       "      <td>2009</td>\n",
       "      <td>10</td>\n",
       "      <td>31</td>\n",
       "    </tr>\n",
       "    <tr>\n",
       "      <th>3</th>\n",
       "      <td>15246</td>\n",
       "      <td>f</td>\n",
       "      <td>Private room</td>\n",
       "      <td>2009-12-03</td>\n",
       "      <td>1</td>\n",
       "      <td>1.5</td>\n",
       "      <td>1.0</td>\n",
       "      <td>1.0</td>\n",
       "      <td>{TV,Internet,Wifi,Kitchen,\"Free parking on pre...</td>\n",
       "      <td>moderate</td>\n",
       "      <td>94.0</td>\n",
       "      <td>50.0</td>\n",
       "      <td>2009</td>\n",
       "      <td>12</td>\n",
       "      <td>03</td>\n",
       "    </tr>\n",
       "    <tr>\n",
       "      <th>4</th>\n",
       "      <td>16760</td>\n",
       "      <td>f</td>\n",
       "      <td>Private room</td>\n",
       "      <td>2009-12-22</td>\n",
       "      <td>2</td>\n",
       "      <td>1.0</td>\n",
       "      <td>1.0</td>\n",
       "      <td>1.0</td>\n",
       "      <td>{Internet,Wifi,Heating,Washer,\"Smoke detector\"...</td>\n",
       "      <td>moderate</td>\n",
       "      <td>90.0</td>\n",
       "      <td>70.0</td>\n",
       "      <td>2009</td>\n",
       "      <td>12</td>\n",
       "      <td>22</td>\n",
       "    </tr>\n",
       "  </tbody>\n",
       "</table>\n",
       "</div>"
      ],
      "text/plain": [
       "      id instant_bookable        room_type  host_since  accommodates  \\\n",
       "0   9835                f     Private room  2009-08-21             2   \n",
       "1  10803                t     Private room  2009-09-16             2   \n",
       "2  12936                f  Entire home/apt  2009-10-31             3   \n",
       "3  15246                f     Private room  2009-12-03             1   \n",
       "4  16760                f     Private room  2009-12-22             2   \n",
       "\n",
       "   bathrooms  bedrooms  beds  \\\n",
       "0        1.0       1.0   2.0   \n",
       "1        1.0       1.0   1.0   \n",
       "2        1.0       1.0   2.0   \n",
       "3        1.5       1.0   1.0   \n",
       "4        1.0       1.0   1.0   \n",
       "\n",
       "                                           amenities  \\\n",
       "0  {Internet,Wifi,\"Pets live on this property\",Do...   \n",
       "1  {TV,Internet,Wifi,\"Air conditioning\",Kitchen,H...   \n",
       "2  {TV,Internet,Wifi,\"Air conditioning\",Kitchen,\"...   \n",
       "3  {TV,Internet,Wifi,Kitchen,\"Free parking on pre...   \n",
       "4  {Internet,Wifi,Heating,Washer,\"Smoke detector\"...   \n",
       "\n",
       "           cancellation_policy  review_scores_rating  price  year month day  \n",
       "0  strict_14_with_grace_period                  90.0   60.0  2009    08  21  \n",
       "1  strict_14_with_grace_period                  88.0   36.0  2009    09  16  \n",
       "2  strict_14_with_grace_period                  91.0  159.0  2009    10  31  \n",
       "3                     moderate                  94.0   50.0  2009    12  03  \n",
       "4                     moderate                  90.0   70.0  2009    12  22  "
      ]
     },
     "execution_count": 2,
     "metadata": {},
     "output_type": "execute_result"
    }
   ],
   "source": [
    "import pandas as pd\n",
    "import numpy as np\n",
    "from collections import Counter\n",
    "\n",
    "inputDF = pd.read_csv('../data/listings.csv')\n",
    "inputDF=inputDF[['id','instant_bookable','room_type','host_since','accommodates','bathrooms','bedrooms','beds','amenities','cancellation_policy','review_scores_rating','price']]\n",
    "\n",
    "# replacing NaN values with 0\n",
    "inputDF.fillna(0, inplace=True)\n",
    "\n",
    "#Extracting prices from the table\n",
    "price = inputDF['price']\n",
    "prices=[]\n",
    "\n",
    "#clean the data to make it float\n",
    "for p in price:\n",
    "    p=float(p[1:].replace(',',''))\n",
    "    prices.append(p)\n",
    "\n",
    "#replace the price column with the new column\n",
    "inputDF['price']=prices\n",
    "\n",
    "#exclude the listings with 0 for price,beds,bedrooms,accomodates etc\n",
    "inputDF = inputDF[inputDF.bathrooms >0]\n",
    "inputDF = inputDF[inputDF.bedrooms > 0]\n",
    "inputDF = inputDF[inputDF.beds > 0]\n",
    "inputDF = inputDF[inputDF.price  > 0]\n",
    "inputDF = inputDF[inputDF.review_scores_rating  > 0]\n",
    "inputDF = inputDF[inputDF.accommodates  > 0]\n",
    "\n",
    "for i,r in inputDF.iterrows():\n",
    "    inputDF.set_value(i,'year',r['host_since'][:4])\n",
    "    inputDF.set_value(i,'month',r['host_since'][5:7])\n",
    "    inputDF.set_value(i,'day',r['host_since'][8:])\n",
    "inputDF.head()"
   ]
  },
  {
   "cell_type": "markdown",
   "metadata": {},
   "source": [
    "Resampling the year-wise data by each day and plotting it against the number of hosts registered"
   ]
  },
  {
   "cell_type": "code",
   "execution_count": 3,
   "metadata": {},
   "outputs": [
    {
     "data": {
      "text/plain": [
       "Text(0,0.5,'number of hosts')"
      ]
     },
     "execution_count": 3,
     "metadata": {},
     "output_type": "execute_result"
    },
    {
     "data": {
      "image/png": "[encoded data removed]",
      "text/plain": [
       "<Figure size 1296x720 with 1 Axes>"
      ]
     },
     "metadata": {
      "needs_background": "light"
     },
     "output_type": "display_data"
    }
   ],
   "source": [
    "import seaborn as sns\n",
    "%matplotlib inline\n",
    "import matplotlib\n",
    "import matplotlib.pyplot as plt\n",
    "plt.figure(figsize=(18,10))\n",
    "join_dates = pd.to_datetime(inputDF['host_since']).value_counts().resample('D').mean().fillna(0)\n",
    "join_dates.plot()\n",
    "plt.xlabel('year')\n",
    "plt.ylabel('number of hosts')"
   ]
  },
  {
   "cell_type": "code",
   "execution_count": 4,
   "metadata": {},
   "outputs": [
    {
     "data": {
      "text/plain": [
       "Text(0,0.5,'Number of hosts')"
      ]
     },
     "execution_count": 4,
     "metadata": {},
     "output_type": "execute_result"
    },
    {
     "data": {
      "image/png": "[encoded data removed]",
      "text/plain": [
       "<Figure size 1152x720 with 1 Axes>"
      ]
     },
     "metadata": {
      "needs_background": "light"
     },
     "output_type": "display_data"
    }
   ],
   "source": [
    "plt.figure(figsize=(16,10))\n",
    "yearDF=inputDF.groupby(['year']).id.count()\n",
    "yearDF=yearDF.reset_index()\n",
    "yearDF=yearDF.rename(columns={'id':'Number of hosts'})\n",
    "ax = sns.barplot(x='year', y=\"Number of hosts\", data=yearDF,palette=\"Blues_d\")\n",
    "plt.ylabel('Number of hosts')"
   ]
  },
  {
   "cell_type": "markdown",
   "metadata": {},
   "source": [
    "From the graph, it can be observed that the year 2015 saw more host registrations compared to other years."
   ]
  },
  {
   "cell_type": "markdown",
   "metadata": {},
   "source": [
    "Now, let us plot the graph for all months in each year"
   ]
  },
  {
   "cell_type": "code",
   "execution_count": 5,
   "metadata": {},
   "outputs": [
    {
     "name": "stderr",
     "output_type": "stream",
     "text": [
      "C:\\Users\\chait\\Anaconda3.7\\lib\\site-packages\\seaborn\\categorical.py:3666: UserWarning: The `factorplot` function has been renamed to `catplot`. The original name will be removed in a future release. Please update your code. Note that the default `kind` in `factorplot` (`'point'`) has changed `'strip'` in `catplot`.\n",
      "  warnings.warn(msg)\n"
     ]
    },
    {
     "data": {
      "text/plain": [
       "<seaborn.axisgrid.FacetGrid at 0x1e732f29ef0>"
      ]
     },
     "execution_count": 5,
     "metadata": {},
     "output_type": "execute_result"
    },
    {
     "data": {
      "image/png": "[encoded data removed]",
      "text/plain": [
       "<Figure size 1080x1440 with 11 Axes>"
      ]
     },
     "metadata": {
      "needs_background": "light"
     },
     "output_type": "display_data"
    }
   ],
   "source": [
    "import seaborn as sns\n",
    "\n",
    "yearMonth=inputDF.groupby(['year','month']).id.count()\n",
    "yearMonth=yearMonth.reset_index()\n",
    "yearMonth=yearMonth.sort_values(['year','month'],ascending=[1,1])\n",
    "yearMonth=yearMonth.rename(columns={\"id\":\"Number of hosts\"})\n",
    "sns.factorplot(data=yearMonth, x=\"month\", y=\"Number of hosts\",col=\"year\",col_wrap=3) \n"
   ]
  },
  {
   "cell_type": "markdown",
   "metadata": {},
   "source": [
    "There is no specific trend followed but by observing, it can be seen that more host registrations occurred during the months of June and November"
   ]
  },
  {
   "cell_type": "markdown",
   "metadata": {},
   "source": [
    "Plotting the number of hosts register against the day of the week."
   ]
  },
  {
   "cell_type": "code",
   "execution_count": 6,
   "metadata": {},
   "outputs": [
    {
     "data": {
      "text/plain": [
       "Text(0,0.5,'Number of hosts')"
      ]
     },
     "execution_count": 6,
     "metadata": {},
     "output_type": "execute_result"
    },
    {
     "data": {
      "image/png": "[encoded data removed]",
      "text/plain": [
       "<Figure size 720x576 with 1 Axes>"
      ]
     },
     "metadata": {
      "needs_background": "light"
     },
     "output_type": "display_data"
    }
   ],
   "source": [
    "plt.figure(figsize=(10,8))\n",
    "pd.to_datetime(inputDF['host_since']).dt.dayofweek.value_counts().sort_index().plot(kind='bar')\n",
    "plt.xlabel(\"Days\")\n",
    "plt.ylabel(\"Number of hosts\")"
   ]
  },
  {
   "cell_type": "markdown",
   "metadata": {},
   "source": [
    "After analysing the data, we are trying to develop a recommendation system for the test data bassed on the train data"
   ]
  },
  {
   "cell_type": "markdown",
   "metadata": {},
   "source": [
    "As the original dataset has many unwanted rows, we considered the columns on which the prices are found to be dependant.<br>\n",
    "As a part of data cleaning, we removed the rows in which the number of bedrooms, batrooms, beds are 0s and converted the prices column in the dataset into float from string to perform operations"
   ]
  },
  {
   "cell_type": "markdown",
   "metadata": {},
   "source": [
    "As the data is present in categorical form, we are using the get_dummies() function of pandas to convert the categorical variables into indicator variables. This step is nothing but one-hot encoding of the categorical variables"
   ]
  },
  {
   "cell_type": "markdown",
   "metadata": {},
   "source": [
    "This will create 4 columns namely flexible, moderate, strict, super_strict_30 as its categories"
   ]
  },
  {
   "cell_type": "code",
   "execution_count": 7,
   "metadata": {},
   "outputs": [
    {
     "data": {
      "text/html": [
       "<div>\n",
       "<style scoped>\n",
       "    .dataframe tbody tr th:only-of-type {\n",
       "        vertical-align: middle;\n",
       "    }\n",
       "\n",
       "    .dataframe tbody tr th {\n",
       "        vertical-align: top;\n",
       "    }\n",
       "\n",
       "    .dataframe thead th {\n",
       "        text-align: right;\n",
       "    }\n",
       "</style>\n",
       "<table border=\"1\" class=\"dataframe\">\n",
       "  <thead>\n",
       "    <tr style=\"text-align: right;\">\n",
       "      <th></th>\n",
       "      <th>flexible</th>\n",
       "      <th>moderate</th>\n",
       "      <th>strict_14_with_grace_period</th>\n",
       "      <th>super_strict_30</th>\n",
       "      <th>super_strict_60</th>\n",
       "    </tr>\n",
       "  </thead>\n",
       "  <tbody>\n",
       "    <tr>\n",
       "      <th>0</th>\n",
       "      <td>0</td>\n",
       "      <td>0</td>\n",
       "      <td>1</td>\n",
       "      <td>0</td>\n",
       "      <td>0</td>\n",
       "    </tr>\n",
       "    <tr>\n",
       "      <th>1</th>\n",
       "      <td>0</td>\n",
       "      <td>0</td>\n",
       "      <td>1</td>\n",
       "      <td>0</td>\n",
       "      <td>0</td>\n",
       "    </tr>\n",
       "    <tr>\n",
       "      <th>2</th>\n",
       "      <td>0</td>\n",
       "      <td>0</td>\n",
       "      <td>1</td>\n",
       "      <td>0</td>\n",
       "      <td>0</td>\n",
       "    </tr>\n",
       "    <tr>\n",
       "      <th>3</th>\n",
       "      <td>0</td>\n",
       "      <td>1</td>\n",
       "      <td>0</td>\n",
       "      <td>0</td>\n",
       "      <td>0</td>\n",
       "    </tr>\n",
       "    <tr>\n",
       "      <th>4</th>\n",
       "      <td>0</td>\n",
       "      <td>1</td>\n",
       "      <td>0</td>\n",
       "      <td>0</td>\n",
       "      <td>0</td>\n",
       "    </tr>\n",
       "  </tbody>\n",
       "</table>\n",
       "</div>"
      ],
      "text/plain": [
       "   flexible  moderate  strict_14_with_grace_period  super_strict_30  \\\n",
       "0         0         0                            1                0   \n",
       "1         0         0                            1                0   \n",
       "2         0         0                            1                0   \n",
       "3         0         1                            0                0   \n",
       "4         0         1                            0                0   \n",
       "\n",
       "   super_strict_60  \n",
       "0                0  \n",
       "1                0  \n",
       "2                0  \n",
       "3                0  \n",
       "4                0  "
      ]
     },
     "execution_count": 7,
     "metadata": {},
     "output_type": "execute_result"
    }
   ],
   "source": [
    "\n",
    "cancel_policy = pd.get_dummies(inputDF.cancellation_policy).astype(int)\n",
    "cancel_policy.head()"
   ]
  },
  {
   "cell_type": "markdown",
   "metadata": {},
   "source": [
    "In the similar way, we converted the other remaining categorical columns instant_booking, room_type into indicator variables"
   ]
  },
  {
   "cell_type": "code",
   "execution_count": 8,
   "metadata": {},
   "outputs": [
    {
     "data": {
      "text/html": [
       "<div>\n",
       "<style scoped>\n",
       "    .dataframe tbody tr th:only-of-type {\n",
       "        vertical-align: middle;\n",
       "    }\n",
       "\n",
       "    .dataframe tbody tr th {\n",
       "        vertical-align: top;\n",
       "    }\n",
       "\n",
       "    .dataframe thead th {\n",
       "        text-align: right;\n",
       "    }\n",
       "</style>\n",
       "<table border=\"1\" class=\"dataframe\">\n",
       "  <thead>\n",
       "    <tr style=\"text-align: right;\">\n",
       "      <th></th>\n",
       "      <th>instant_booking_f</th>\n",
       "      <th>instant_booking_t</th>\n",
       "    </tr>\n",
       "  </thead>\n",
       "  <tbody>\n",
       "    <tr>\n",
       "      <th>0</th>\n",
       "      <td>1</td>\n",
       "      <td>0</td>\n",
       "    </tr>\n",
       "    <tr>\n",
       "      <th>1</th>\n",
       "      <td>0</td>\n",
       "      <td>1</td>\n",
       "    </tr>\n",
       "    <tr>\n",
       "      <th>2</th>\n",
       "      <td>1</td>\n",
       "      <td>0</td>\n",
       "    </tr>\n",
       "    <tr>\n",
       "      <th>3</th>\n",
       "      <td>1</td>\n",
       "      <td>0</td>\n",
       "    </tr>\n",
       "    <tr>\n",
       "      <th>4</th>\n",
       "      <td>1</td>\n",
       "      <td>0</td>\n",
       "    </tr>\n",
       "  </tbody>\n",
       "</table>\n",
       "</div>"
      ],
      "text/plain": [
       "   instant_booking_f  instant_booking_t\n",
       "0                  1                  0\n",
       "1                  0                  1\n",
       "2                  1                  0\n",
       "3                  1                  0\n",
       "4                  1                  0"
      ]
     },
     "execution_count": 8,
     "metadata": {},
     "output_type": "execute_result"
    }
   ],
   "source": [
    "instant_booking = pd.get_dummies(inputDF.instant_bookable, prefix = 'instant_booking').astype(int)\n",
    "instant_booking.head()"
   ]
  },
  {
   "cell_type": "code",
   "execution_count": 9,
   "metadata": {},
   "outputs": [
    {
     "data": {
      "text/html": [
       "<div>\n",
       "<style scoped>\n",
       "    .dataframe tbody tr th:only-of-type {\n",
       "        vertical-align: middle;\n",
       "    }\n",
       "\n",
       "    .dataframe tbody tr th {\n",
       "        vertical-align: top;\n",
       "    }\n",
       "\n",
       "    .dataframe thead th {\n",
       "        text-align: right;\n",
       "    }\n",
       "</style>\n",
       "<table border=\"1\" class=\"dataframe\">\n",
       "  <thead>\n",
       "    <tr style=\"text-align: right;\">\n",
       "      <th></th>\n",
       "      <th>Entire home/apt</th>\n",
       "      <th>Private room</th>\n",
       "      <th>Shared room</th>\n",
       "    </tr>\n",
       "  </thead>\n",
       "  <tbody>\n",
       "    <tr>\n",
       "      <th>0</th>\n",
       "      <td>0</td>\n",
       "      <td>1</td>\n",
       "      <td>0</td>\n",
       "    </tr>\n",
       "    <tr>\n",
       "      <th>1</th>\n",
       "      <td>0</td>\n",
       "      <td>1</td>\n",
       "      <td>0</td>\n",
       "    </tr>\n",
       "    <tr>\n",
       "      <th>2</th>\n",
       "      <td>1</td>\n",
       "      <td>0</td>\n",
       "      <td>0</td>\n",
       "    </tr>\n",
       "    <tr>\n",
       "      <th>3</th>\n",
       "      <td>0</td>\n",
       "      <td>1</td>\n",
       "      <td>0</td>\n",
       "    </tr>\n",
       "    <tr>\n",
       "      <th>4</th>\n",
       "      <td>0</td>\n",
       "      <td>1</td>\n",
       "      <td>0</td>\n",
       "    </tr>\n",
       "  </tbody>\n",
       "</table>\n",
       "</div>"
      ],
      "text/plain": [
       "   Entire home/apt  Private room  Shared room\n",
       "0                0             1            0\n",
       "1                0             1            0\n",
       "2                1             0            0\n",
       "3                0             1            0\n",
       "4                0             1            0"
      ]
     },
     "execution_count": 9,
     "metadata": {},
     "output_type": "execute_result"
    }
   ],
   "source": [
    "room_type = pd.get_dummies(inputDF.room_type).astype(int)\n",
    "room_type.head()"
   ]
  },
  {
   "cell_type": "markdown",
   "metadata": {},
   "source": [
    "As all the categorical data is turned into indicator variables (i.e. one hot encoded), the categorical columns in the original dataset can be replaced by the indicator variables."
   ]
  },
  {
   "cell_type": "code",
   "execution_count": 10,
   "metadata": {},
   "outputs": [
    {
     "data": {
      "text/html": [
       "<div>\n",
       "<style scoped>\n",
       "    .dataframe tbody tr th:only-of-type {\n",
       "        vertical-align: middle;\n",
       "    }\n",
       "\n",
       "    .dataframe tbody tr th {\n",
       "        vertical-align: top;\n",
       "    }\n",
       "\n",
       "    .dataframe thead th {\n",
       "        text-align: right;\n",
       "    }\n",
       "</style>\n",
       "<table border=\"1\" class=\"dataframe\">\n",
       "  <thead>\n",
       "    <tr style=\"text-align: right;\">\n",
       "      <th></th>\n",
       "      <th>id</th>\n",
       "      <th>host_since</th>\n",
       "      <th>accommodates</th>\n",
       "      <th>bathrooms</th>\n",
       "      <th>bedrooms</th>\n",
       "      <th>beds</th>\n",
       "      <th>amenities</th>\n",
       "      <th>review_scores_rating</th>\n",
       "      <th>price</th>\n",
       "      <th>year</th>\n",
       "      <th>...</th>\n",
       "      <th>flexible</th>\n",
       "      <th>moderate</th>\n",
       "      <th>strict_14_with_grace_period</th>\n",
       "      <th>super_strict_30</th>\n",
       "      <th>super_strict_60</th>\n",
       "      <th>instant_booking_f</th>\n",
       "      <th>instant_booking_t</th>\n",
       "      <th>Entire home/apt</th>\n",
       "      <th>Private room</th>\n",
       "      <th>Shared room</th>\n",
       "    </tr>\n",
       "  </thead>\n",
       "  <tbody>\n",
       "    <tr>\n",
       "      <th>0</th>\n",
       "      <td>9835</td>\n",
       "      <td>2009-08-21</td>\n",
       "      <td>2</td>\n",
       "      <td>1.0</td>\n",
       "      <td>1.0</td>\n",
       "      <td>2.0</td>\n",
       "      <td>{Internet,Wifi,\"Pets live on this property\",Do...</td>\n",
       "      <td>90.0</td>\n",
       "      <td>60.0</td>\n",
       "      <td>2009</td>\n",
       "      <td>...</td>\n",
       "      <td>0</td>\n",
       "      <td>0</td>\n",
       "      <td>1</td>\n",
       "      <td>0</td>\n",
       "      <td>0</td>\n",
       "      <td>1</td>\n",
       "      <td>0</td>\n",
       "      <td>0</td>\n",
       "      <td>1</td>\n",
       "      <td>0</td>\n",
       "    </tr>\n",
       "    <tr>\n",
       "      <th>1</th>\n",
       "      <td>10803</td>\n",
       "      <td>2009-09-16</td>\n",
       "      <td>2</td>\n",
       "      <td>1.0</td>\n",
       "      <td>1.0</td>\n",
       "      <td>1.0</td>\n",
       "      <td>{TV,Internet,Wifi,\"Air conditioning\",Kitchen,H...</td>\n",
       "      <td>88.0</td>\n",
       "      <td>36.0</td>\n",
       "      <td>2009</td>\n",
       "      <td>...</td>\n",
       "      <td>0</td>\n",
       "      <td>0</td>\n",
       "      <td>1</td>\n",
       "      <td>0</td>\n",
       "      <td>0</td>\n",
       "      <td>0</td>\n",
       "      <td>1</td>\n",
       "      <td>0</td>\n",
       "      <td>1</td>\n",
       "      <td>0</td>\n",
       "    </tr>\n",
       "    <tr>\n",
       "      <th>2</th>\n",
       "      <td>12936</td>\n",
       "      <td>2009-10-31</td>\n",
       "      <td>3</td>\n",
       "      <td>1.0</td>\n",
       "      <td>1.0</td>\n",
       "      <td>2.0</td>\n",
       "      <td>{TV,Internet,Wifi,\"Air conditioning\",Kitchen,\"...</td>\n",
       "      <td>91.0</td>\n",
       "      <td>159.0</td>\n",
       "      <td>2009</td>\n",
       "      <td>...</td>\n",
       "      <td>0</td>\n",
       "      <td>0</td>\n",
       "      <td>1</td>\n",
       "      <td>0</td>\n",
       "      <td>0</td>\n",
       "      <td>1</td>\n",
       "      <td>0</td>\n",
       "      <td>1</td>\n",
       "      <td>0</td>\n",
       "      <td>0</td>\n",
       "    </tr>\n",
       "    <tr>\n",
       "      <th>3</th>\n",
       "      <td>15246</td>\n",
       "      <td>2009-12-03</td>\n",
       "      <td>1</td>\n",
       "      <td>1.5</td>\n",
       "      <td>1.0</td>\n",
       "      <td>1.0</td>\n",
       "      <td>{TV,Internet,Wifi,Kitchen,\"Free parking on pre...</td>\n",
       "      <td>94.0</td>\n",
       "      <td>50.0</td>\n",
       "      <td>2009</td>\n",
       "      <td>...</td>\n",
       "      <td>0</td>\n",
       "      <td>1</td>\n",
       "      <td>0</td>\n",
       "      <td>0</td>\n",
       "      <td>0</td>\n",
       "      <td>1</td>\n",
       "      <td>0</td>\n",
       "      <td>0</td>\n",
       "      <td>1</td>\n",
       "      <td>0</td>\n",
       "    </tr>\n",
       "    <tr>\n",
       "      <th>4</th>\n",
       "      <td>16760</td>\n",
       "      <td>2009-12-22</td>\n",
       "      <td>2</td>\n",
       "      <td>1.0</td>\n",
       "      <td>1.0</td>\n",
       "      <td>1.0</td>\n",
       "      <td>{Internet,Wifi,Heating,Washer,\"Smoke detector\"...</td>\n",
       "      <td>90.0</td>\n",
       "      <td>70.0</td>\n",
       "      <td>2009</td>\n",
       "      <td>...</td>\n",
       "      <td>0</td>\n",
       "      <td>1</td>\n",
       "      <td>0</td>\n",
       "      <td>0</td>\n",
       "      <td>0</td>\n",
       "      <td>1</td>\n",
       "      <td>0</td>\n",
       "      <td>0</td>\n",
       "      <td>1</td>\n",
       "      <td>0</td>\n",
       "    </tr>\n",
       "  </tbody>\n",
       "</table>\n",
       "<p>5 rows × 22 columns</p>\n",
       "</div>"
      ],
      "text/plain": [
       "      id  host_since  accommodates  bathrooms  bedrooms  beds  \\\n",
       "0   9835  2009-08-21             2        1.0       1.0   2.0   \n",
       "1  10803  2009-09-16             2        1.0       1.0   1.0   \n",
       "2  12936  2009-10-31             3        1.0       1.0   2.0   \n",
       "3  15246  2009-12-03             1        1.5       1.0   1.0   \n",
       "4  16760  2009-12-22             2        1.0       1.0   1.0   \n",
       "\n",
       "                                           amenities  review_scores_rating  \\\n",
       "0  {Internet,Wifi,\"Pets live on this property\",Do...                  90.0   \n",
       "1  {TV,Internet,Wifi,\"Air conditioning\",Kitchen,H...                  88.0   \n",
       "2  {TV,Internet,Wifi,\"Air conditioning\",Kitchen,\"...                  91.0   \n",
       "3  {TV,Internet,Wifi,Kitchen,\"Free parking on pre...                  94.0   \n",
       "4  {Internet,Wifi,Heating,Washer,\"Smoke detector\"...                  90.0   \n",
       "\n",
       "   price  year     ...      flexible moderate  strict_14_with_grace_period  \\\n",
       "0   60.0  2009     ...             0        0                            1   \n",
       "1   36.0  2009     ...             0        0                            1   \n",
       "2  159.0  2009     ...             0        0                            1   \n",
       "3   50.0  2009     ...             0        1                            0   \n",
       "4   70.0  2009     ...             0        1                            0   \n",
       "\n",
       "   super_strict_30  super_strict_60  instant_booking_f  instant_booking_t  \\\n",
       "0                0                0                  1                  0   \n",
       "1                0                0                  0                  1   \n",
       "2                0                0                  1                  0   \n",
       "3                0                0                  1                  0   \n",
       "4                0                0                  1                  0   \n",
       "\n",
       "   Entire home/apt  Private room  Shared room  \n",
       "0                0             1            0  \n",
       "1                0             1            0  \n",
       "2                1             0            0  \n",
       "3                0             1            0  \n",
       "4                0             1            0  \n",
       "\n",
       "[5 rows x 22 columns]"
      ]
     },
     "execution_count": 10,
     "metadata": {},
     "output_type": "execute_result"
    }
   ],
   "source": [
    "# drop original columns and replace them with indicator columns\n",
    "\n",
    "inputDF = inputDF.drop(['cancellation_policy', 'instant_bookable', 'room_type'], axis = 1)\n",
    "inputDF = pd.concat((inputDF, cancel_policy, instant_booking, room_type), axis = 1)\n",
    "\n",
    "inputDF.head()"
   ]
  },
  {
   "cell_type": "code",
   "execution_count": 11,
   "metadata": {},
   "outputs": [
    {
     "data": {
      "text/html": [
       "<div>\n",
       "<style scoped>\n",
       "    .dataframe tbody tr th:only-of-type {\n",
       "        vertical-align: middle;\n",
       "    }\n",
       "\n",
       "    .dataframe tbody tr th {\n",
       "        vertical-align: top;\n",
       "    }\n",
       "\n",
       "    .dataframe thead th {\n",
       "        text-align: right;\n",
       "    }\n",
       "</style>\n",
       "<table border=\"1\" class=\"dataframe\">\n",
       "  <thead>\n",
       "    <tr style=\"text-align: right;\">\n",
       "      <th></th>\n",
       "      <th>id</th>\n",
       "      <th>host_since</th>\n",
       "      <th>accommodates</th>\n",
       "      <th>bathrooms</th>\n",
       "      <th>bedrooms</th>\n",
       "      <th>beds</th>\n",
       "      <th>amenities</th>\n",
       "      <th>review_scores_rating</th>\n",
       "      <th>price</th>\n",
       "      <th>year</th>\n",
       "      <th>...</th>\n",
       "      <th>flexible</th>\n",
       "      <th>moderate</th>\n",
       "      <th>strict_14_with_grace_period</th>\n",
       "      <th>super_strict_30</th>\n",
       "      <th>super_strict_60</th>\n",
       "      <th>instant_booking_f</th>\n",
       "      <th>instant_booking_t</th>\n",
       "      <th>Entire home/apt</th>\n",
       "      <th>Private room</th>\n",
       "      <th>Shared room</th>\n",
       "    </tr>\n",
       "  </thead>\n",
       "  <tbody>\n",
       "    <tr>\n",
       "      <th>0</th>\n",
       "      <td>9835</td>\n",
       "      <td>2009-08-21</td>\n",
       "      <td>2</td>\n",
       "      <td>1.0</td>\n",
       "      <td>1.0</td>\n",
       "      <td>2.0</td>\n",
       "      <td>5</td>\n",
       "      <td>90.0</td>\n",
       "      <td>60.0</td>\n",
       "      <td>2009</td>\n",
       "      <td>...</td>\n",
       "      <td>0</td>\n",
       "      <td>0</td>\n",
       "      <td>1</td>\n",
       "      <td>0</td>\n",
       "      <td>0</td>\n",
       "      <td>1</td>\n",
       "      <td>0</td>\n",
       "      <td>0</td>\n",
       "      <td>1</td>\n",
       "      <td>0</td>\n",
       "    </tr>\n",
       "    <tr>\n",
       "      <th>1</th>\n",
       "      <td>10803</td>\n",
       "      <td>2009-09-16</td>\n",
       "      <td>2</td>\n",
       "      <td>1.0</td>\n",
       "      <td>1.0</td>\n",
       "      <td>1.0</td>\n",
       "      <td>29</td>\n",
       "      <td>88.0</td>\n",
       "      <td>36.0</td>\n",
       "      <td>2009</td>\n",
       "      <td>...</td>\n",
       "      <td>0</td>\n",
       "      <td>0</td>\n",
       "      <td>1</td>\n",
       "      <td>0</td>\n",
       "      <td>0</td>\n",
       "      <td>0</td>\n",
       "      <td>1</td>\n",
       "      <td>0</td>\n",
       "      <td>1</td>\n",
       "      <td>0</td>\n",
       "    </tr>\n",
       "    <tr>\n",
       "      <th>2</th>\n",
       "      <td>12936</td>\n",
       "      <td>2009-10-31</td>\n",
       "      <td>3</td>\n",
       "      <td>1.0</td>\n",
       "      <td>1.0</td>\n",
       "      <td>2.0</td>\n",
       "      <td>30</td>\n",
       "      <td>91.0</td>\n",
       "      <td>159.0</td>\n",
       "      <td>2009</td>\n",
       "      <td>...</td>\n",
       "      <td>0</td>\n",
       "      <td>0</td>\n",
       "      <td>1</td>\n",
       "      <td>0</td>\n",
       "      <td>0</td>\n",
       "      <td>1</td>\n",
       "      <td>0</td>\n",
       "      <td>1</td>\n",
       "      <td>0</td>\n",
       "      <td>0</td>\n",
       "    </tr>\n",
       "    <tr>\n",
       "      <th>3</th>\n",
       "      <td>15246</td>\n",
       "      <td>2009-12-03</td>\n",
       "      <td>1</td>\n",
       "      <td>1.5</td>\n",
       "      <td>1.0</td>\n",
       "      <td>1.0</td>\n",
       "      <td>13</td>\n",
       "      <td>94.0</td>\n",
       "      <td>50.0</td>\n",
       "      <td>2009</td>\n",
       "      <td>...</td>\n",
       "      <td>0</td>\n",
       "      <td>1</td>\n",
       "      <td>0</td>\n",
       "      <td>0</td>\n",
       "      <td>0</td>\n",
       "      <td>1</td>\n",
       "      <td>0</td>\n",
       "      <td>0</td>\n",
       "      <td>1</td>\n",
       "      <td>0</td>\n",
       "    </tr>\n",
       "    <tr>\n",
       "      <th>4</th>\n",
       "      <td>16760</td>\n",
       "      <td>2009-12-22</td>\n",
       "      <td>2</td>\n",
       "      <td>1.0</td>\n",
       "      <td>1.0</td>\n",
       "      <td>1.0</td>\n",
       "      <td>6</td>\n",
       "      <td>90.0</td>\n",
       "      <td>70.0</td>\n",
       "      <td>2009</td>\n",
       "      <td>...</td>\n",
       "      <td>0</td>\n",
       "      <td>1</td>\n",
       "      <td>0</td>\n",
       "      <td>0</td>\n",
       "      <td>0</td>\n",
       "      <td>1</td>\n",
       "      <td>0</td>\n",
       "      <td>0</td>\n",
       "      <td>1</td>\n",
       "      <td>0</td>\n",
       "    </tr>\n",
       "  </tbody>\n",
       "</table>\n",
       "<p>5 rows × 22 columns</p>\n",
       "</div>"
      ],
      "text/plain": [
       "      id  host_since  accommodates  bathrooms  bedrooms  beds  amenities  \\\n",
       "0   9835  2009-08-21             2        1.0       1.0   2.0          5   \n",
       "1  10803  2009-09-16             2        1.0       1.0   1.0         29   \n",
       "2  12936  2009-10-31             3        1.0       1.0   2.0         30   \n",
       "3  15246  2009-12-03             1        1.5       1.0   1.0         13   \n",
       "4  16760  2009-12-22             2        1.0       1.0   1.0          6   \n",
       "\n",
       "   review_scores_rating  price  year     ...      flexible moderate  \\\n",
       "0                  90.0   60.0  2009     ...             0        0   \n",
       "1                  88.0   36.0  2009     ...             0        0   \n",
       "2                  91.0  159.0  2009     ...             0        0   \n",
       "3                  94.0   50.0  2009     ...             0        1   \n",
       "4                  90.0   70.0  2009     ...             0        1   \n",
       "\n",
       "   strict_14_with_grace_period  super_strict_30  super_strict_60  \\\n",
       "0                            1                0                0   \n",
       "1                            1                0                0   \n",
       "2                            1                0                0   \n",
       "3                            0                0                0   \n",
       "4                            0                0                0   \n",
       "\n",
       "   instant_booking_f  instant_booking_t  Entire home/apt  Private room  \\\n",
       "0                  1                  0                0             1   \n",
       "1                  0                  1                0             1   \n",
       "2                  1                  0                1             0   \n",
       "3                  1                  0                0             1   \n",
       "4                  1                  0                0             1   \n",
       "\n",
       "   Shared room  \n",
       "0            0  \n",
       "1            0  \n",
       "2            0  \n",
       "3            0  \n",
       "4            0  \n",
       "\n",
       "[5 rows x 22 columns]"
      ]
     },
     "execution_count": 11,
     "metadata": {},
     "output_type": "execute_result"
    }
   ],
   "source": [
    "# splitting the amenities list to count the number of amenities\n",
    "amenities_list = []\n",
    "\n",
    "for element in inputDF.amenities:\n",
    "    element = element[1:]\n",
    "    element = element[:-1]\n",
    "    x = element.split()\n",
    "    amenities_list.append(len(x))\n",
    "\n",
    "inputDF.amenities = amenities_list\n",
    "inputDF.head()"
   ]
  },
  {
   "cell_type": "markdown",
   "metadata": {},
   "source": [
    "After our data is cleaned, we used the sklearn's train_test_split() function to seperate our data into training and testing set."
   ]
  },
  {
   "cell_type": "code",
   "execution_count": 12,
   "metadata": {},
   "outputs": [],
   "source": [
    "import sklearn.metrics as metrics\n",
    "from sklearn.grid_search import GridSearchCV\n",
    "from sklearn.grid_search import RandomizedSearchCV\n",
    "from sklearn import metrics\n",
    "from sklearn import datasets\n",
    "from sklearn import cross_validation\n",
    "from sklearn import linear_model\n",
    "from sklearn import ensemble\n",
    "\n",
    "split_data= inputDF.drop(['host_since'],axis=1)\n",
    "train1,test1,train2,test2=cross_validation.train_test_split(split_data,inputDF.price, test_size=0.3,train_size = 0.7,random_state=13)"
   ]
  },
  {
   "cell_type": "code",
   "execution_count": 13,
   "metadata": {},
   "outputs": [
    {
     "name": "stdout",
     "output_type": "stream",
     "text": [
      "mean: 149.6472108044627\n",
      "standard deviation: 262.2516139323643\n"
     ]
    }
   ],
   "source": [
    "# Lets analyze if linear regression can predict the prices accurately\n",
    "# mean of prices\n",
    "mean = np.mean(inputDF.price)\n",
    "\n",
    "# standard deviation to compare \n",
    "std = np.std(inputDF.price)\n",
    "\n",
    "print(\"mean: \" + str(mean))\n",
    "print (\"standard deviation: \" + str(std))"
   ]
  },
  {
   "cell_type": "code",
   "execution_count": 18,
   "metadata": {},
   "outputs": [
    {
     "name": "stdout",
     "output_type": "stream",
     "text": [
      "Linear Regression: 6.030720324506757e-09\n"
     ]
    }
   ],
   "source": [
    "# linear regression testing\n",
    "linear_reg = linear_model.LinearRegression()\n",
    "linear_reg.fit(train1, train2)\n",
    "linear_reg_error = metrics.mean_absolute_error(test2, linear_reg.predict(test1))\n",
    "print (\"Linear Regression: \" + str(linear_reg_error))"
   ]
  },
  {
   "cell_type": "markdown",
   "metadata": {},
   "source": [
    "As the dataset is skimmed, it becomes very small and the linear regression that I used to build the recommendation system works on that small dataset, so the recommendation is a bit unstable."
   ]
  }
 ],
 "metadata": {
  "kernelspec": {
   "display_name": "Python 3",
   "language": "python",
   "name": "python3"
  }
 },
 "nbformat": 4,
 "nbformat_minor": 2
}
